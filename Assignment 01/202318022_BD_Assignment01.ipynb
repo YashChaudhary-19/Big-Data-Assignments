{
 "cells": [
  {
   "cell_type": "markdown",
   "metadata": {},
   "source": [
    "<h1 align = \"center\"> BD ASSIGNMENT - 01 </h1>\n",
    "\n",
    "NAME: Yash Chaudhary\n",
    "\n",
    "STUDENT ID: 202318022\n"
   ]
  },
  {
   "cell_type": "markdown",
   "metadata": {},
   "source": [
    "# Task - 2"
   ]
  },
  {
   "cell_type": "code",
   "execution_count": 11,
   "metadata": {},
   "outputs": [],
   "source": [
    "import pandas as pd\n",
    "import requests"
   ]
  },
  {
   "cell_type": "code",
   "execution_count": 25,
   "metadata": {},
   "outputs": [],
   "source": [
    "url = \"https://odds.p.rapidapi.com/v4/sports/upcoming/odds\"\n",
    "\n",
    "querystring = {\"regions\":\"us\",\"oddsFormat\":\"decimal\",\"markets\":\"h2h,spreads\",\"dateFormat\":\"iso\"}\n",
    "\n",
    "headers = {\n",
    "\t\"X-RapidAPI-Key\": \"feab1db9aamshde73aae37c6d4edp16ddeejsna9c1e947babc\",\n",
    "\t\"X-RapidAPI-Host\": \"odds.p.rapidapi.com\"\n",
    "}\n",
    "\n",
    "response = requests.get(url, headers=headers, params=querystring)\n",
    "\n",
    "output = response.json()"
   ]
  },
  {
   "cell_type": "code",
   "execution_count": 26,
   "metadata": {},
   "outputs": [
    {
     "data": {
      "text/plain": [
       "dict_keys(['id', 'sport_key', 'sport_title', 'commence_time', 'home_team', 'away_team', 'bookmakers'])"
      ]
     },
     "execution_count": 26,
     "metadata": {},
     "output_type": "execute_result"
    }
   ],
   "source": [
    "output[0].keys()"
   ]
  },
  {
   "cell_type": "code",
   "execution_count": 32,
   "metadata": {},
   "outputs": [],
   "source": [
    "sport_title = []\n",
    "home_team = []\n",
    "away_team = []\n",
    "commence_time = []\n",
    "\n",
    "for i in output:\n",
    "    sport_title.append(i[\"sport_title\"])\n",
    "    home_team.append(i[\"home_team\"])\n",
    "    away_team.append(i[\"away_team\"])\n",
    "    commence_time.append(i[\"commence_time\"])\n"
   ]
  },
  {
   "cell_type": "code",
   "execution_count": 29,
   "metadata": {},
   "outputs": [
    {
     "data": {
      "text/plain": [
       "['Belgium First Div',\n",
       " 'Belgium First Div',\n",
       " 'HockeyAllsvenskan',\n",
       " 'HockeyAllsvenskan',\n",
       " 'Basketball Euroleague',\n",
       " 'HockeyAllsvenskan',\n",
       " 'La Liga - Spain',\n",
       " 'HockeyAllsvenskan',\n",
       " 'HockeyAllsvenskan',\n",
       " 'HockeyAllsvenskan',\n",
       " 'Basketball Euroleague',\n",
       " 'Primeira Liga - Portugal',\n",
       " 'Basketball Euroleague',\n",
       " 'EPL',\n",
       " 'EPL',\n",
       " 'Basketball Euroleague',\n",
       " 'Swiss Superleague',\n",
       " 'Swiss Superleague',\n",
       " 'Swiss Superleague']"
      ]
     },
     "execution_count": 29,
     "metadata": {},
     "output_type": "execute_result"
    }
   ],
   "source": [
    "sport_title"
   ]
  },
  {
   "cell_type": "code",
   "execution_count": 34,
   "metadata": {},
   "outputs": [
    {
     "data": {
      "text/plain": [
       "['Charleroi',\n",
       " 'Leuven',\n",
       " 'Västerviks IK',\n",
       " 'Södertälje SK',\n",
       " 'AS Monaco',\n",
       " 'BIK Karlskoga',\n",
       " 'Barcelona',\n",
       " 'IF Björklöven',\n",
       " 'Djurgårdens IF',\n",
       " 'Nybro Vikings IF',\n",
       " 'Žalgiris',\n",
       " 'Rio Ave FC',\n",
       " 'Panathinaikos',\n",
       " 'Tottenham Hotspur',\n",
       " 'Manchester City',\n",
       " 'FC Barcelona Bàsquet',\n",
       " 'FC Zurich',\n",
       " 'FC Lugano',\n",
       " 'FC St Gallen']"
      ]
     },
     "execution_count": 34,
     "metadata": {},
     "output_type": "execute_result"
    }
   ],
   "source": [
    "home_team"
   ]
  },
  {
   "cell_type": "code",
   "execution_count": 33,
   "metadata": {},
   "outputs": [
    {
     "data": {
      "text/plain": [
       "['Eupen',\n",
       " 'Genk',\n",
       " 'AIK',\n",
       " 'Kalmar HC',\n",
       " 'KK Partizan NIS',\n",
       " 'Brynäs IF',\n",
       " 'CA Osasuna',\n",
       " 'Östersunds IK',\n",
       " 'Västerås IK',\n",
       " 'Almtuna IS',\n",
       " 'Anadolu Efes',\n",
       " 'Estoril',\n",
       " 'Pallacanestro Olimpia Milano',\n",
       " 'Brentford',\n",
       " 'Burnley',\n",
       " 'Virtus Segafredo Bologna',\n",
       " 'FC Lausanne-Sport',\n",
       " 'Grasshopper Zürich',\n",
       " 'Servette']"
      ]
     },
     "execution_count": 33,
     "metadata": {},
     "output_type": "execute_result"
    }
   ],
   "source": [
    "away_team"
   ]
  },
  {
   "cell_type": "code",
   "execution_count": 35,
   "metadata": {},
   "outputs": [
    {
     "data": {
      "text/plain": [
       "['2024-01-31T17:45:20Z',\n",
       " '2024-01-31T17:46:00Z',\n",
       " '2024-01-31T18:00:19Z',\n",
       " '2024-01-31T18:00:20Z',\n",
       " '2024-01-31T18:00:25Z',\n",
       " '2024-01-31T18:00:47Z',\n",
       " '2024-01-31T18:00:55Z',\n",
       " '2024-01-31T18:01:01Z',\n",
       " '2024-01-31T18:01:19Z',\n",
       " '2024-01-31T18:01:34Z',\n",
       " '2024-01-31T18:01:49Z',\n",
       " '2024-01-31T18:45:00Z',\n",
       " '2024-01-31T19:15:00Z',\n",
       " '2024-01-31T19:30:00Z',\n",
       " '2024-01-31T19:30:00Z',\n",
       " '2024-01-31T19:30:00Z',\n",
       " '2024-01-31T19:30:00Z',\n",
       " '2024-01-31T19:30:00Z',\n",
       " '2024-01-31T19:30:00Z']"
      ]
     },
     "execution_count": 35,
     "metadata": {},
     "output_type": "execute_result"
    }
   ],
   "source": [
    "commence_time"
   ]
  },
  {
   "cell_type": "code",
   "execution_count": 36,
   "metadata": {},
   "outputs": [],
   "source": [
    "columns = {\"Sport Title\": sport_title, \"Home Team\": home_team, \"Away Team\": away_team, \"Timings\": commence_time}"
   ]
  },
  {
   "cell_type": "code",
   "execution_count": 37,
   "metadata": {},
   "outputs": [
    {
     "data": {
      "text/html": [
       "<div>\n",
       "<style scoped>\n",
       "    .dataframe tbody tr th:only-of-type {\n",
       "        vertical-align: middle;\n",
       "    }\n",
       "\n",
       "    .dataframe tbody tr th {\n",
       "        vertical-align: top;\n",
       "    }\n",
       "\n",
       "    .dataframe thead th {\n",
       "        text-align: right;\n",
       "    }\n",
       "</style>\n",
       "<table border=\"1\" class=\"dataframe\">\n",
       "  <thead>\n",
       "    <tr style=\"text-align: right;\">\n",
       "      <th></th>\n",
       "      <th>Sport Title</th>\n",
       "      <th>Home Team</th>\n",
       "      <th>Away Team</th>\n",
       "      <th>Timings</th>\n",
       "    </tr>\n",
       "  </thead>\n",
       "  <tbody>\n",
       "    <tr>\n",
       "      <th>0</th>\n",
       "      <td>Belgium First Div</td>\n",
       "      <td>Charleroi</td>\n",
       "      <td>Eupen</td>\n",
       "      <td>2024-01-31T17:45:20Z</td>\n",
       "    </tr>\n",
       "    <tr>\n",
       "      <th>1</th>\n",
       "      <td>Belgium First Div</td>\n",
       "      <td>Leuven</td>\n",
       "      <td>Genk</td>\n",
       "      <td>2024-01-31T17:46:00Z</td>\n",
       "    </tr>\n",
       "    <tr>\n",
       "      <th>2</th>\n",
       "      <td>HockeyAllsvenskan</td>\n",
       "      <td>Västerviks IK</td>\n",
       "      <td>AIK</td>\n",
       "      <td>2024-01-31T18:00:19Z</td>\n",
       "    </tr>\n",
       "    <tr>\n",
       "      <th>3</th>\n",
       "      <td>HockeyAllsvenskan</td>\n",
       "      <td>Södertälje SK</td>\n",
       "      <td>Kalmar HC</td>\n",
       "      <td>2024-01-31T18:00:20Z</td>\n",
       "    </tr>\n",
       "    <tr>\n",
       "      <th>4</th>\n",
       "      <td>Basketball Euroleague</td>\n",
       "      <td>AS Monaco</td>\n",
       "      <td>KK Partizan NIS</td>\n",
       "      <td>2024-01-31T18:00:25Z</td>\n",
       "    </tr>\n",
       "    <tr>\n",
       "      <th>5</th>\n",
       "      <td>HockeyAllsvenskan</td>\n",
       "      <td>BIK Karlskoga</td>\n",
       "      <td>Brynäs IF</td>\n",
       "      <td>2024-01-31T18:00:47Z</td>\n",
       "    </tr>\n",
       "    <tr>\n",
       "      <th>6</th>\n",
       "      <td>La Liga - Spain</td>\n",
       "      <td>Barcelona</td>\n",
       "      <td>CA Osasuna</td>\n",
       "      <td>2024-01-31T18:00:55Z</td>\n",
       "    </tr>\n",
       "    <tr>\n",
       "      <th>7</th>\n",
       "      <td>HockeyAllsvenskan</td>\n",
       "      <td>IF Björklöven</td>\n",
       "      <td>Östersunds IK</td>\n",
       "      <td>2024-01-31T18:01:01Z</td>\n",
       "    </tr>\n",
       "    <tr>\n",
       "      <th>8</th>\n",
       "      <td>HockeyAllsvenskan</td>\n",
       "      <td>Djurgårdens IF</td>\n",
       "      <td>Västerås IK</td>\n",
       "      <td>2024-01-31T18:01:19Z</td>\n",
       "    </tr>\n",
       "    <tr>\n",
       "      <th>9</th>\n",
       "      <td>HockeyAllsvenskan</td>\n",
       "      <td>Nybro Vikings IF</td>\n",
       "      <td>Almtuna IS</td>\n",
       "      <td>2024-01-31T18:01:34Z</td>\n",
       "    </tr>\n",
       "    <tr>\n",
       "      <th>10</th>\n",
       "      <td>Basketball Euroleague</td>\n",
       "      <td>Žalgiris</td>\n",
       "      <td>Anadolu Efes</td>\n",
       "      <td>2024-01-31T18:01:49Z</td>\n",
       "    </tr>\n",
       "    <tr>\n",
       "      <th>11</th>\n",
       "      <td>Primeira Liga - Portugal</td>\n",
       "      <td>Rio Ave FC</td>\n",
       "      <td>Estoril</td>\n",
       "      <td>2024-01-31T18:45:00Z</td>\n",
       "    </tr>\n",
       "    <tr>\n",
       "      <th>12</th>\n",
       "      <td>Basketball Euroleague</td>\n",
       "      <td>Panathinaikos</td>\n",
       "      <td>Pallacanestro Olimpia Milano</td>\n",
       "      <td>2024-01-31T19:15:00Z</td>\n",
       "    </tr>\n",
       "    <tr>\n",
       "      <th>13</th>\n",
       "      <td>EPL</td>\n",
       "      <td>Tottenham Hotspur</td>\n",
       "      <td>Brentford</td>\n",
       "      <td>2024-01-31T19:30:00Z</td>\n",
       "    </tr>\n",
       "    <tr>\n",
       "      <th>14</th>\n",
       "      <td>EPL</td>\n",
       "      <td>Manchester City</td>\n",
       "      <td>Burnley</td>\n",
       "      <td>2024-01-31T19:30:00Z</td>\n",
       "    </tr>\n",
       "    <tr>\n",
       "      <th>15</th>\n",
       "      <td>Basketball Euroleague</td>\n",
       "      <td>FC Barcelona Bàsquet</td>\n",
       "      <td>Virtus Segafredo Bologna</td>\n",
       "      <td>2024-01-31T19:30:00Z</td>\n",
       "    </tr>\n",
       "    <tr>\n",
       "      <th>16</th>\n",
       "      <td>Swiss Superleague</td>\n",
       "      <td>FC Zurich</td>\n",
       "      <td>FC Lausanne-Sport</td>\n",
       "      <td>2024-01-31T19:30:00Z</td>\n",
       "    </tr>\n",
       "    <tr>\n",
       "      <th>17</th>\n",
       "      <td>Swiss Superleague</td>\n",
       "      <td>FC Lugano</td>\n",
       "      <td>Grasshopper Zürich</td>\n",
       "      <td>2024-01-31T19:30:00Z</td>\n",
       "    </tr>\n",
       "    <tr>\n",
       "      <th>18</th>\n",
       "      <td>Swiss Superleague</td>\n",
       "      <td>FC St Gallen</td>\n",
       "      <td>Servette</td>\n",
       "      <td>2024-01-31T19:30:00Z</td>\n",
       "    </tr>\n",
       "  </tbody>\n",
       "</table>\n",
       "</div>"
      ],
      "text/plain": [
       "                 Sport Title             Home Team  \\\n",
       "0          Belgium First Div             Charleroi   \n",
       "1          Belgium First Div                Leuven   \n",
       "2          HockeyAllsvenskan         Västerviks IK   \n",
       "3          HockeyAllsvenskan         Södertälje SK   \n",
       "4      Basketball Euroleague             AS Monaco   \n",
       "5          HockeyAllsvenskan         BIK Karlskoga   \n",
       "6            La Liga - Spain             Barcelona   \n",
       "7          HockeyAllsvenskan         IF Björklöven   \n",
       "8          HockeyAllsvenskan        Djurgårdens IF   \n",
       "9          HockeyAllsvenskan      Nybro Vikings IF   \n",
       "10     Basketball Euroleague              Žalgiris   \n",
       "11  Primeira Liga - Portugal            Rio Ave FC   \n",
       "12     Basketball Euroleague         Panathinaikos   \n",
       "13                       EPL     Tottenham Hotspur   \n",
       "14                       EPL       Manchester City   \n",
       "15     Basketball Euroleague  FC Barcelona Bàsquet   \n",
       "16         Swiss Superleague             FC Zurich   \n",
       "17         Swiss Superleague             FC Lugano   \n",
       "18         Swiss Superleague          FC St Gallen   \n",
       "\n",
       "                       Away Team               Timings  \n",
       "0                          Eupen  2024-01-31T17:45:20Z  \n",
       "1                           Genk  2024-01-31T17:46:00Z  \n",
       "2                            AIK  2024-01-31T18:00:19Z  \n",
       "3                      Kalmar HC  2024-01-31T18:00:20Z  \n",
       "4                KK Partizan NIS  2024-01-31T18:00:25Z  \n",
       "5                      Brynäs IF  2024-01-31T18:00:47Z  \n",
       "6                     CA Osasuna  2024-01-31T18:00:55Z  \n",
       "7                  Östersunds IK  2024-01-31T18:01:01Z  \n",
       "8                    Västerås IK  2024-01-31T18:01:19Z  \n",
       "9                     Almtuna IS  2024-01-31T18:01:34Z  \n",
       "10                  Anadolu Efes  2024-01-31T18:01:49Z  \n",
       "11                       Estoril  2024-01-31T18:45:00Z  \n",
       "12  Pallacanestro Olimpia Milano  2024-01-31T19:15:00Z  \n",
       "13                     Brentford  2024-01-31T19:30:00Z  \n",
       "14                       Burnley  2024-01-31T19:30:00Z  \n",
       "15      Virtus Segafredo Bologna  2024-01-31T19:30:00Z  \n",
       "16             FC Lausanne-Sport  2024-01-31T19:30:00Z  \n",
       "17            Grasshopper Zürich  2024-01-31T19:30:00Z  \n",
       "18                      Servette  2024-01-31T19:30:00Z  "
      ]
     },
     "execution_count": 37,
     "metadata": {},
     "output_type": "execute_result"
    }
   ],
   "source": [
    "df=pd.DataFrame(columns)\n",
    "df"
   ]
  },
  {
   "cell_type": "code",
   "execution_count": 38,
   "metadata": {},
   "outputs": [],
   "source": [
    "df.to_csv(\"sports_data.csv\")"
   ]
  },
  {
   "cell_type": "markdown",
   "metadata": {},
   "source": [
    "# Task - 3"
   ]
  },
  {
   "cell_type": "code",
   "execution_count": 34,
   "metadata": {},
   "outputs": [],
   "source": [
    "import pandas as pd\n",
    "import requests\n",
    "from bs4 import BeautifulSoup"
   ]
  },
  {
   "cell_type": "code",
   "execution_count": 40,
   "metadata": {},
   "outputs": [
    {
     "name": "stdout",
     "output_type": "stream",
     "text": [
      "The list of Product Names is: ['SAMSUNG Galaxy S23 Ultra 5G (Cream, 512 GB)', 'OPPO F21 Pro 5G (Rainbow Spectrum, 128 GB)', 'SAMSUNG Galaxy Z Flip5 (Graphite, 512 GB)', 'REDMI Note 12 Pro 5G (Onyx Black, 256 GB)', 'OPPO Reno10 Pro+ 5G (Silvery Grey, 256 GB)', 'vivo V27 Pro 5G (Magic Blue, 128 GB)', 'OnePlus 10R (Sierra Black, 128 GB)', 'OnePlus 11 5G (Titan Black, 128 GB)', 'OPPO A78 5G (Glowing Black, 128 GB)', 'vivo X90 (Asteroid Black, 256 GB)', 'Apple iPhone 14 (Starlight, 512 GB)', 'vivo V23 Pro 5G (Sunshine Gold, 128 GB)', 'vivo V23 Pro 5G (Stardust Black, 128 GB)', 'OPPO A79 5G (Glowing Green, 128 GB)', 'Apple iPhone 15 Pro (Blue Titanium, 512 GB)', 'IQOO Z7 Pro 5G (Graphite Matte, 128 GB)', 'Tecno Phantom X 50MP Camera 48MP+8MP Selfie (Summer Sunset, 256 GB)', 'Apple iPhone 11 (Red, 64 GB)', 'SAMSUNG Galaxy S22 Plus 5G (Phantom Black, 128 GB)', 'SAMSUNG Galaxy Z Flip4 5G (Pink Gold, 256 GB)', 'vivo Y56 5G (Orange Shimmer, 128 GB)', 'Apple iPhone 13 Pro Max (Gold, 1 TB)', 'SAMSUNG Galaxy A52 (Awesome Blue, 128 GB)', 'SAMSUNG Galaxy S24 5G (Cobalt Violet, 512 GB)']\n",
      "The list of Prices is: ['₹1,34,999', '₹23,389', '₹1,09,999', '₹23,999', '₹54,999', '₹34,190', '₹26,769', '₹52,899', '₹21,999', '₹53,999', '₹85,999', '₹29,690', '₹29,865', '₹22,999', '₹1,61,990', '₹24,442', '₹22,490', '₹43,900', '₹69,999', '₹64,999', '₹21,399', '₹1,79,900', '₹22,999', '₹89,999']\n",
      "The list of Description is: ['12 GB RAM | 512 GB ROM17.27 cm (6.8 inch) Quad HD+ Display200MP + 10MP + 12MP + 10MP | 12MP Front Camera5000 mAh Lithium Ion BatteryQualcomm Snapdragon 8 Gen 2 Processor1 Year Manufacturer Warranty for Device and 6 Months Manufacturer Warranty for In-Box Accessories', '8 GB RAM | 128 GB ROM16.33 cm (6.43 inch) Display16MP Rear Camera4500 mAh Battery12 months', '8 GB RAM | 512 GB ROM17.02 cm (6.7 inch) Display12MP + 12MP | 10MP Front Camera3700 mAh BatterySnapdragon 8 Gen 2 Processor1 Year Manufacturer Warranty for Device and 6 Months Manufacturer Warranty for In-Box Accessories', '8 GB RAM | 256 GB ROM16.94 cm (6.67 inch) Full HD+ AMOLED Display50MP (OIS) + 8MP + 2MP | 16MP Front Camera5000 mAh Lithium Polymer BatteryMediatek Dimensity 1080 Processor1 Year Manufacturer Warranty for Phone and 6 Months Warranty for In the Box Accessories', '12 GB RAM | 256 GB ROM17.12 cm (6.74 inch) Full HD+ Display50MP + 64MP + 8MP | 32MP Front Camera4700 mAh BatterySnapdragon 8+ Gen 1 Processor1 Year Manufacturer Warranty for Phone and 6 Months Warranty for In the Box Accessories', '8 GB RAM | 128 GB ROM17.22 cm (6.78 inch) Full HD+ Display50MP (OIS) + 8MP + 2MP | 50MP Front Camera4600 mAh BatteryMediatek Dimensity 8200 Processor1 Year Manufacturer Warranty for Phone and 6 Months Warranty for In the Box Accessories', '8 GB RAM | 128 GB ROM17.02 cm (6.7 inch) Display50MP Rear Camera5000 mAh Battery1 Year Manufacturer Warranty for Handset and 6 Months Warranty for In the Box Accessories', '8 GB RAM | 128 GB ROM17.02 cm (6.7 inch) Display50MP Rear Camera | 16MP Front Camera5000 mAh Batterydomestic warranty of 12 months on phone & 6 months on accessories', '8 GB RAM | 128 GB ROM16.66 cm (6.56 inch) HD+ Display50MP + 2MP | 8MP Front Camera5000 mAh Battery6833 Processor1 Year Manufacturer Warranty for Phone and 6 Months Warranty for In the Box Accessories', '8 GB RAM | 256 GB ROM17.22 cm (6.78 inch) Full HD+ Display50MP + 12MP + 12MP | 32MP Front Camera4810 mAh BatteryDimensity 9200 Processor1 Year Handset and 6 Months Accessories', '512 GB ROM15.49 cm (6.1 inch) Super Retina XDR Display12MP + 12MP | 12MP Front CameraA15 Bionic Chip, 6 Core Processor Processor1 Year Warranty for Phone and 6 Months Warranty for In-Box Accessories', '8 GB RAM | 128 GB ROM16.66 cm (6.56 inch) Full HD+ Display108MP + 8MP + 2MP | 50MP + 8MP Dual Front Camera4300 mAh Lithium BatteryMediatek Dimensity 1200 Processor1 Year Manufacturer Warranty for Phone and 6 Months Warranty for In the Box Accessories', '8 GB RAM | 128 GB ROM | Expandable Upto 12 GB16.66 cm (6.56 inch) Full HD+ Display108MP + 8MP + 2MP | 50MP + 8MP Dual Front Camera4300 mAh Lithium BatteryMediatek Dimensity 1200 Processor1 Year Manufacturer Warranty for Phone and 6 Months Warranty for In the Box Accessories', '8 GB RAM | 128 GB ROM | Expandable Upto 1 TB17.07 cm (6.72 inch) Full HD+ DisplayRear Camera: 50MP AI Camera, 2MP Portrait Camera Front Camera: 8MP Selfie Camera | 8MP Front Camera5000 mAh Lithium Polymer BatteryMediatek Dimensity 6020 ProcessorBefore going on the market, the product has gone through 6 tests, namely drop, anti-splash, radiation, weather, slight drop, and signal tests, and 5 safety protection steps, namely durability, fire and flame retardant, temperature protection, noise safety, and battery protection. 50-plus production-related checks, 130-plus ultra-stringent reliability tests, and 320-plus comprehensive testing processes, just to provide OPPO enduring craftsmanship and quality.\\n[1-Meter Directional Drop Test]\\n[150-Circle Tumbling Test]\\n[14,000 Micro-Drop Test]\\n[Water-Spray Test]\\n[1,000 25Kg Soft Pressure Tests]\\n[Stress Bending Test]\\n[500,000 On Button Press Tests]\\n[20,000 USB Plug/Unplug Tests]\\n[65°C 95%RH 168H High Temperature and High Humidity Test]\\n[100,000-Plus Rigorous Quality Tests]\\n* The data here refers to laboratory test data only and is not intended for quality assurance in daily use. The actual situation will be slightly different due to different test software versions, test environments, and versions.12 Months on Handset and 6 Months on Adapter & Cable', '512 GB ROM15.49 cm (6.1 inch) Super Retina XDR Display48MP + 12MP + 12MP | 12MP Front CameraA17 Pro Chip, 6 Core Processor Processor1 Year Warranty for Phone and 6 Months Warranty for In-Box Accessories', '8 GB RAM | 128 GB ROM17.22 cm (6.78 inch) Display64MP Rear Camera4600 mAh Battery1 Year on Handset and 6 Months on Accessories', '8 GB RAM | 256 GB ROM17.02 cm (6.7 inch) Display13MP Rear Camera4700 mAh Battery1 Year Warranty for Headset', '64 GB ROM15.49 cm (6.1 inch) Liquid Retina HD Display12MP + 12MP | 12MP Front CameraA13 Bionic Chip ProcessorBrand Warranty of 1 Year', '8 GB RAM | 128 GB ROM16.76 cm (6.6 inch) Full HD+ Display50MP + 12MP + 10MP | 10MP Front Camera4500 mAh Lithium-ion BatteryQualcomm Snapdragon 8 Gen 1 Processor1 Year Manufacturer Warranty for Device and 6 Months Manufacturer Warranty for In-Box Accessories', '8 GB RAM | 256 GB ROM17.02 cm (6.7 inch) Full HD+ Display12MP + 12MP | 10MP Front Camera3700 mAh Lithium Ion BatteryQualcomm Snapdragon 8+ Gen 1 Processor1 Year Manufacturer Warranty for Device and 6 Months Manufacturer Warranty for In-Box Accessories', '8 GB RAM | 128 GB ROM16.71 cm (6.58 inch) Full HD+ Display50MP + 2MP | 16MP Front Camera5000 mAh BatteryMediatek Dimensity 700 Processor1 Year Manufacturer Warranty for Handset and 6 Months Manufacturer Warranty for In-Box Accessories', '1 TB ROM17.02 cm (6.7 inch) Super Retina XDR Display12MP + 12MP + 12MP | 12MP Front CameraA15 Bionic Chip ProcessorBrand Warranty for 1 Year', '8 GB RAM | 128 GB ROM | Expandable Upto 1 TB16.51 cm (6.5 inch) Full HD+ Display64MP + 12MP + 5MP + 5MP | 32MP Front Camera4500 mAh Lithium-ion BatteryQualcomm Snapdragon 720G Processor1 Year Warranty Provided by the Manufacturer from Date of Purchase', '8 GB RAM | 512 GB ROM15.75 cm (6.2 inch) Full HD+ Display50MP + 10MP + 12MP | 12MP Front Camera4000 mAh BatteryExynos 2400 Processor1 Year Manufacturer Warranty for Device and 6 Months for In-Box Accessories']\n",
      "The list of Reviews is: ['4.6', '4.2', '4.4', '4.2', '4.5', '4.4', '4.3', '4.4', '4.3', '4.4', '4.6', '4.3', '4.3', '4.3', '4.7', '4.5', '4.1', '4.6', '4.5', '3.8', '4.3', '4.6', '4.3', '4.3']\n"
     ]
    }
   ],
   "source": [
    "# For premium mobile phones available on Flipkart:\n",
    "\n",
    "product_name = []\n",
    "prices = []\n",
    "description = []\n",
    "reviews = []\n",
    "\n",
    "for i in range(1, 16):\n",
    "  url = 'https://www.flipkart.com/mobiles-accessories/mobiles/pr?sid=tyy%2C4io&p%5B%5D=facets.price_range.from%3D20000&p%5B%5D=facets.price_range.to%3DMax&p%5B%5D=facets.availability%255B%255D%3DExclude%2BOut%2Bof%2BStock&ctx=eyJjYXJkQ29udGV4dCI6eyJhdHRyaWJ1dGVzIjp7InRpdGxlIjp7Im11bHRpVmFsdWVkQXR0cmlidXRlIjp7ImtleSI6InRpdGxlIiwiaW5mZXJlbmNlVHlwZSI6IlRJVExFIiwidmFsdWVzIjpbIlByZW1pdW0gTW9iaWxlcyDigrkyMCwwMDArIl0sInZhbHVlVHlwZSI6Ik1VTFRJX1ZBTFVFRCJ9fX19fQ%3D%3D&wid=32.productCard.PMU_V2_19&page='+str(i)\n",
    "\n",
    "req = requests.get(url)\n",
    "\n",
    "soup = BeautifulSoup(req.text, \"lxml\")\n",
    "box = soup.find(\"div\", class_ = \"_1YokD2 _3Mn1Gg\")\n",
    "\n",
    "# For Product Names:\n",
    "\n",
    "names = soup.find_all(\"div\", class_ = \"_4rR01T\")\n",
    "\n",
    "for i in names:\n",
    "  name = i.text\n",
    "  product_name.append(name)\n",
    "\n",
    "print(\"The list of Product Names is:\", product_name)\n",
    "\n",
    "# For Prices:\n",
    "\n",
    "price = soup.find_all(\"div\", class_ = \"_30jeq3 _1_WHN1\")\n",
    "\n",
    "for i in price:\n",
    "  name = i.text\n",
    "  prices.append(name)\n",
    "\n",
    "print(\"The list of Prices is:\", prices)\n",
    "\n",
    "# For Descriptions:\n",
    "\n",
    "desc = soup.find_all(\"ul\", class_ = \"_1xgFaf\")\n",
    "\n",
    "for i in desc:\n",
    "  name = i.text\n",
    "  description.append(name)\n",
    "\n",
    "print(\"The list of Description is:\", description)\n",
    "\n",
    "# For Reviews:\n",
    "\n",
    "rev = soup.find_all(\"div\", class_ = \"_3LWZlK\")\n",
    "\n",
    "for i in rev:\n",
    "  name = i.text\n",
    "  reviews.append(name)\n",
    "\n",
    "print(\"The list of Reviews is:\", reviews)\n",
    "\n",
    "df = pd.DataFrame({\"Product Name\":product_name, \"Prices\":prices, \"Description\":description, \"Reviews\":reviews})"
   ]
  },
  {
   "cell_type": "code",
   "execution_count": 42,
   "metadata": {},
   "outputs": [
    {
     "name": "stdout",
     "output_type": "stream",
     "text": [
      "                                         Product Name     Prices  \\\n",
      "0         SAMSUNG Galaxy S23 Ultra 5G (Cream, 512 GB)  ₹1,34,999   \n",
      "1          OPPO F21 Pro 5G (Rainbow Spectrum, 128 GB)    ₹23,389   \n",
      "2           SAMSUNG Galaxy Z Flip5 (Graphite, 512 GB)  ₹1,09,999   \n",
      "3           REDMI Note 12 Pro 5G (Onyx Black, 256 GB)    ₹23,999   \n",
      "4          OPPO Reno10 Pro+ 5G (Silvery Grey, 256 GB)    ₹54,999   \n",
      "5                vivo V27 Pro 5G (Magic Blue, 128 GB)    ₹34,190   \n",
      "6                  OnePlus 10R (Sierra Black, 128 GB)    ₹26,769   \n",
      "7                 OnePlus 11 5G (Titan Black, 128 GB)    ₹52,899   \n",
      "8                 OPPO A78 5G (Glowing Black, 128 GB)    ₹21,999   \n",
      "9                   vivo X90 (Asteroid Black, 256 GB)    ₹53,999   \n",
      "10                Apple iPhone 14 (Starlight, 512 GB)    ₹85,999   \n",
      "11            vivo V23 Pro 5G (Sunshine Gold, 128 GB)    ₹29,690   \n",
      "12           vivo V23 Pro 5G (Stardust Black, 128 GB)    ₹29,865   \n",
      "13                OPPO A79 5G (Glowing Green, 128 GB)    ₹22,999   \n",
      "14        Apple iPhone 15 Pro (Blue Titanium, 512 GB)  ₹1,61,990   \n",
      "15            IQOO Z7 Pro 5G (Graphite Matte, 128 GB)    ₹24,442   \n",
      "16  Tecno Phantom X 50MP Camera 48MP+8MP Selfie (S...    ₹22,490   \n",
      "17                       Apple iPhone 11 (Red, 64 GB)    ₹43,900   \n",
      "18  SAMSUNG Galaxy S22 Plus 5G (Phantom Black, 128...    ₹69,999   \n",
      "19      SAMSUNG Galaxy Z Flip4 5G (Pink Gold, 256 GB)    ₹64,999   \n",
      "20               vivo Y56 5G (Orange Shimmer, 128 GB)    ₹21,399   \n",
      "21               Apple iPhone 13 Pro Max (Gold, 1 TB)  ₹1,79,900   \n",
      "22          SAMSUNG Galaxy A52 (Awesome Blue, 128 GB)    ₹22,999   \n",
      "23      SAMSUNG Galaxy S24 5G (Cobalt Violet, 512 GB)    ₹89,999   \n",
      "\n",
      "                                          Description Reviews  \n",
      "0   12 GB RAM | 512 GB ROM17.27 cm (6.8 inch) Quad...     4.6  \n",
      "1   8 GB RAM | 128 GB ROM16.33 cm (6.43 inch) Disp...     4.2  \n",
      "2   8 GB RAM | 512 GB ROM17.02 cm (6.7 inch) Displ...     4.4  \n",
      "3   8 GB RAM | 256 GB ROM16.94 cm (6.67 inch) Full...     4.2  \n",
      "4   12 GB RAM | 256 GB ROM17.12 cm (6.74 inch) Ful...     4.5  \n",
      "5   8 GB RAM | 128 GB ROM17.22 cm (6.78 inch) Full...     4.4  \n",
      "6   8 GB RAM | 128 GB ROM17.02 cm (6.7 inch) Displ...     4.3  \n",
      "7   8 GB RAM | 128 GB ROM17.02 cm (6.7 inch) Displ...     4.4  \n",
      "8   8 GB RAM | 128 GB ROM16.66 cm (6.56 inch) HD+ ...     4.3  \n",
      "9   8 GB RAM | 256 GB ROM17.22 cm (6.78 inch) Full...     4.4  \n",
      "10  512 GB ROM15.49 cm (6.1 inch) Super Retina XDR...     4.6  \n",
      "11  8 GB RAM | 128 GB ROM16.66 cm (6.56 inch) Full...     4.3  \n",
      "12  8 GB RAM | 128 GB ROM | Expandable Upto 12 GB1...     4.3  \n",
      "13  8 GB RAM | 128 GB ROM | Expandable Upto 1 TB17...     4.3  \n",
      "14  512 GB ROM15.49 cm (6.1 inch) Super Retina XDR...     4.7  \n",
      "15  8 GB RAM | 128 GB ROM17.22 cm (6.78 inch) Disp...     4.5  \n",
      "16  8 GB RAM | 256 GB ROM17.02 cm (6.7 inch) Displ...     4.1  \n",
      "17  64 GB ROM15.49 cm (6.1 inch) Liquid Retina HD ...     4.6  \n",
      "18  8 GB RAM | 128 GB ROM16.76 cm (6.6 inch) Full ...     4.5  \n",
      "19  8 GB RAM | 256 GB ROM17.02 cm (6.7 inch) Full ...     3.8  \n",
      "20  8 GB RAM | 128 GB ROM16.71 cm (6.58 inch) Full...     4.3  \n",
      "21  1 TB ROM17.02 cm (6.7 inch) Super Retina XDR D...     4.6  \n",
      "22  8 GB RAM | 128 GB ROM | Expandable Upto 1 TB16...     4.3  \n",
      "23  8 GB RAM | 512 GB ROM15.75 cm (6.2 inch) Full ...     4.3  \n"
     ]
    }
   ],
   "source": [
    "df = pd.DataFrame({\"Product Name\":product_name, \"Prices\":prices, \"Description\":description, \"Reviews\":reviews})\n",
    "print(df)"
   ]
  },
  {
   "cell_type": "code",
   "execution_count": 43,
   "metadata": {},
   "outputs": [],
   "source": [
    "df.to_csv(\"flipkart_premium_smartphones.csv\")"
   ]
  }
 ],
 "metadata": {
  "kernelspec": {
   "display_name": "base",
   "language": "python",
   "name": "python3"
  },
  "language_info": {
   "codemirror_mode": {
    "name": "ipython",
    "version": 3
   },
   "file_extension": ".py",
   "mimetype": "text/x-python",
   "name": "python",
   "nbconvert_exporter": "python",
   "pygments_lexer": "ipython3",
   "version": "3.11.5"
  }
 },
 "nbformat": 4,
 "nbformat_minor": 2
}
